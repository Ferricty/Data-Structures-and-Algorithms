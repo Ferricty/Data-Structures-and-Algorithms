{
 "cells": [
  {
   "cell_type": "markdown",
   "id": "47aa7d55",
   "metadata": {},
   "source": [
    "# Data Structures and Algorithms in Python (III)\n",
    "\n",
    "In this project we are going to work with some data structures such as Binary Trees, Binary Search Trees and the Merge Sort Algorithm\n",
    "\n",
    "## Merge Sort Algorithm"
   ]
  },
  {
   "cell_type": "code",
   "execution_count": 1,
   "id": "c701c878",
   "metadata": {},
   "outputs": [],
   "source": [
    "import random \n",
    "import numpy as np\n",
    "import time\n",
    "a=np.random.randint(0,1000000,5000)\n",
    "r=list(a)"
   ]
  },
  {
   "cell_type": "code",
   "execution_count": 2,
   "id": "59442077",
   "metadata": {},
   "outputs": [],
   "source": [
    "def merge_sorted_lists(list1, list2):\n",
    "    index1 = 0\n",
    "    index2 = 0\n",
    "    merged_list = []\n",
    "    while index1 < len(list1) and index2 < len(list2):\n",
    "        if list1[index1] < list2[index2]:\n",
    "            merged_list.append(list1[index1])\n",
    "            index1 += 1\n",
    "        else:\n",
    "            merged_list.append(list2[index2])\n",
    "            index2 += 1\n",
    "    merged_list += list1[index1:]\n",
    "    merged_list += list2[index2:]\n",
    "    return merged_list\n",
    "\n",
    "def merge_sort(values):\n",
    "    if len(values) <= 1:\n",
    "        return values\n",
    "    else:\n",
    "        midpoint = len(values)//2\n",
    "        first_half = merge_sort(values[:midpoint])\n",
    "        second_half = merge_sort(values[midpoint:])\n",
    "        return merge_sorted_lists(first_half, second_half)\n",
    "    "
   ]
  },
  {
   "cell_type": "code",
   "execution_count": 3,
   "id": "ce850325",
   "metadata": {},
   "outputs": [
    {
     "data": {
      "text/plain": [
       "0.08894729614257812"
      ]
     },
     "execution_count": 3,
     "metadata": {},
     "output_type": "execute_result"
    }
   ],
   "source": [
    "start=time.time()\n",
    "merge_sort(r)\n",
    "end=time.time()\n",
    "end-start"
   ]
  },
  {
   "cell_type": "markdown",
   "id": "f9fcea1a",
   "metadata": {},
   "source": [
    "## Binary Tree\n",
    "\n",
    "A Binary Tree is a tree data structure in wich each node has at most two children, which we refer to as the left child and the right child.\n",
    "\n",
    "We call the top node of the tree the \"root\", a node with no children \"leaf\" and a node that is neither the root nor a leaf an \"internal node\"\n"
   ]
  },
  {
   "cell_type": "code",
   "execution_count": 4,
   "id": "f4314e89",
   "metadata": {},
   "outputs": [],
   "source": [
    "class Node:\n",
    "    def __init__(self, value):\n",
    "        self.value = value\n",
    "        self.left_child = None\n",
    "        self.right_child = None"
   ]
  },
  {
   "cell_type": "code",
   "execution_count": 5,
   "id": "53646f7c",
   "metadata": {},
   "outputs": [],
   "source": [
    "node_5 = Node(5)\n",
    "node_3 = Node(3)\n",
    "node_1 = Node(1)\n",
    "node_9 = Node(9)\n",
    "node_8 = Node(8)\n",
    "node_10 = Node(10)\n",
    "node_6 = Node(6)"
   ]
  },
  {
   "cell_type": "code",
   "execution_count": 6,
   "id": "dd6217fe",
   "metadata": {},
   "outputs": [],
   "source": [
    "node_3.left_child = node_1\n",
    "node_5.left_child = node_3\n",
    "node_5.right_child = node_9\n",
    "node_9.left_child = node_8\n",
    "node_9.right_child = node_8\n",
    "node_8.left_child = node_6"
   ]
  },
  {
   "cell_type": "markdown",
   "id": "c40dc244",
   "metadata": {},
   "source": [
    "## Binary Search Tree\n",
    "All the values on the left are smaller than or equal to the value in the parent, and all values on the right bigger than the value parent value. "
   ]
  },
  {
   "cell_type": "code",
   "execution_count": 7,
   "id": "4702f4df",
   "metadata": {},
   "outputs": [],
   "source": [
    "class BST:\n",
    "    def __init__(self):\n",
    "        self.root = None\n",
    "    \n",
    "    def add(self, value):\n",
    "        if self.root is None:\n",
    "            self.root = Node(value)\n",
    "        \n",
    "        else:\n",
    "            self._add_recursive(self.root, value)\n",
    "    \n",
    "    def _add_recursive(self, current_node, value):\n",
    "        if value <= current_node.value:\n",
    "            if current_node.left_child is None:\n",
    "                current_node.left_child = Node(value)\n",
    "            else:\n",
    "                self._add_recursive(current_node.left_child, value)\n",
    "        else:\n",
    "            if current_node.right_child is None:\n",
    "                current_node.right_child = Node(value)\n",
    "            else:\n",
    "                self._add_recursive(current_node.right_child, value)\n",
    "    \n",
    "    def _contains(self, current_node, value):\n",
    "        if current_node is None:\n",
    "            return False\n",
    "        if current_node.value == value:\n",
    "            return True\n",
    "        if value < current_node.value:\n",
    "            return self._contains(current_node.left_child, value)\n",
    "        else:\n",
    "            return self._contains(current_node.right_child, value)\n",
    "    \n",
    "    def contains(self, value):\n",
    "        return self._contains(self.root, value)\n",
    "                "
   ]
  },
  {
   "cell_type": "code",
   "execution_count": 8,
   "id": "a15453c1",
   "metadata": {},
   "outputs": [],
   "source": [
    "bst = BST()"
   ]
  },
  {
   "cell_type": "code",
   "execution_count": 9,
   "id": "9e416be2",
   "metadata": {},
   "outputs": [],
   "source": [
    "bst.add(4)"
   ]
  },
  {
   "cell_type": "code",
   "execution_count": 10,
   "id": "1cdeb18b",
   "metadata": {},
   "outputs": [],
   "source": [
    "bst.add(1)"
   ]
  },
  {
   "cell_type": "code",
   "execution_count": 11,
   "id": "549a64be",
   "metadata": {},
   "outputs": [],
   "source": [
    "bst.add(5)"
   ]
  },
  {
   "cell_type": "code",
   "execution_count": 12,
   "id": "9130e84b",
   "metadata": {},
   "outputs": [],
   "source": [
    "bst.add(7)"
   ]
  },
  {
   "cell_type": "code",
   "execution_count": 13,
   "id": "cc7bff6b",
   "metadata": {},
   "outputs": [],
   "source": [
    "bst.add(3)"
   ]
  },
  {
   "cell_type": "code",
   "execution_count": 14,
   "id": "c29049f8",
   "metadata": {},
   "outputs": [
    {
     "data": {
      "text/plain": [
       "False"
      ]
     },
     "execution_count": 14,
     "metadata": {},
     "output_type": "execute_result"
    }
   ],
   "source": [
    "bst.contains(1000)"
   ]
  },
  {
   "cell_type": "code",
   "execution_count": 15,
   "id": "30762410",
   "metadata": {},
   "outputs": [
    {
     "data": {
      "text/plain": [
       "True"
      ]
     },
     "execution_count": 15,
     "metadata": {},
     "output_type": "execute_result"
    }
   ],
   "source": [
    "bst.contains(7)"
   ]
  },
  {
   "cell_type": "markdown",
   "id": "1fc89523",
   "metadata": {},
   "source": [
    "## AVL Trees\n",
    "\n",
    "AVL trees are an implementation of binary search trees that are automatically balanced to ensure the efficiency of the tree operations."
   ]
  },
  {
   "cell_type": "code",
   "execution_count": 16,
   "id": "ad5ae8cf",
   "metadata": {},
   "outputs": [],
   "source": [
    "class AVLNode(Node):\n",
    "    def __init__(self, value):\n",
    "        super().__init__(value)\n",
    "        self.height = 1\n",
    "        self.imbalance = 0\n",
    "        \n",
    "    def calculate_height_and_imbalance(self):\n",
    "        left_height = self.left_child.height if self.left_child != None else 0 \n",
    "        right_height = self.right_child.height if self.right_child != None else 0\n",
    "        \n",
    "        self.height = 1 + max([right_height,left_height])\n",
    "        self.imbalance = left_height - right_height\n",
    "\n",
    "class AVLTree(BST):\n",
    "    def __init__(self):\n",
    "        #super().__init__()\n",
    "        self.root = None\n",
    "        \n",
    "    def add(self, value):\n",
    "        if self.root is None:\n",
    "            self.root = AVLNode(value)\n",
    "        \n",
    "        else:\n",
    "            self._add_recursive(self.root, value)\n",
    "    \n",
    "    def _add_recursive(self, current_node, value):\n",
    "        if current_node is None:\n",
    "            return AVLNode(value)\n",
    "        if value <= current_node.value:\n",
    "            current_node.left_child = self._add_recursive(current_node.left_child, value)\n",
    "        else:\n",
    "            current_node.right_child = self._add_recursive(current_node.right_child, value)\n",
    "            \n",
    "        current_node.calculate_height_and_imbalance()\n",
    "            \n",
    "        if abs(current_node.imbalance) == 2:\n",
    "            return self._balance(current_node)\n",
    "            \n",
    "        return current_node\n",
    "    \n",
    "    def get_height(self):\n",
    "        return self.root.height\n",
    "    \n",
    "    def _rotate_left(self, node):\n",
    "        pivot = node.right_child\n",
    "        node.right_child = pivot.left_child\n",
    "        pivot.left_child = node\n",
    "        node.calculate_height_and_imbalance()\n",
    "        pivot.calculate_height_and_imbalance()\n",
    "        \n",
    "        return pivot\n",
    "    \n",
    "    def _rotate_right(self, node):\n",
    "        pivot = node.left_child\n",
    "        node.left_child = pivot.right_child\n",
    "        pivot.right_child = node\n",
    "        node.calculate_height_and_imbalance()\n",
    "        pivot.calculate_height_and_imbalance()\n",
    "        return pivot\n",
    "    \n",
    "    def _balance(self, node):\n",
    "        if node.imbalance == 2:\n",
    "            pivot = node.left_child\n",
    "            if pivot.imbalance == 1:\n",
    "                return self._rotate_right(node)\n",
    "            else:\n",
    "                node.left_child = self._rotate_left(pivot)\n",
    "                return self._rotate_right(node)\n",
    "        else:\n",
    "            pivot = node.right_child\n",
    "            if pivot.imbalance == -1:\n",
    "                return self._rotate_left(node)\n",
    "            else:\n",
    "                node.right_child = self._rotate_right(pivot)\n",
    "                return self._rotate_left(node)\n",
    "        \n",
    "        \n",
    "        "
   ]
  },
  {
   "cell_type": "code",
   "execution_count": 17,
   "id": "3c53952b",
   "metadata": {},
   "outputs": [],
   "source": [
    "avl = AVLTree()\n",
    "avl.add(423)\n",
    "avl.add(41)\n",
    "avl.add(500)\n",
    "avl.add(23)\n",
    "assert avl.contains(23), \"The AVL tree doesn't contain 23\""
   ]
  },
  {
   "cell_type": "code",
   "execution_count": 18,
   "id": "b73e6e3e",
   "metadata": {},
   "outputs": [
    {
     "data": {
      "text/plain": [
       "3"
      ]
     },
     "execution_count": 18,
     "metadata": {},
     "output_type": "execute_result"
    }
   ],
   "source": [
    "avl.get_height()"
   ]
  },
  {
   "cell_type": "markdown",
   "id": "8d9b9ee8",
   "metadata": {},
   "source": [
    "## Binary Heap\n",
    "\n",
    "A Heap is a binary tree in which every level except for the last one is full. A min-heap is a heap where the value of each node is smaller than or equal to the value of its children. A binary tree is complete if the tree's levels are filled in except for the last, which has nodes filled in from left to right. Heaps have many applications. In data engineering we can use the to schedule tasks with priorities. In data science, we can use them to calculate order statistics on the data. They have many applications, including calculating the shortest routes in your GPS."
   ]
  },
  {
   "cell_type": "code",
   "execution_count": 19,
   "id": "5a5f4477",
   "metadata": {},
   "outputs": [],
   "source": [
    "class MinHeap:\n",
    "    def __init__(self):\n",
    "        self.values = []\n",
    "    \n",
    "    def _left_child(self, node):\n",
    "        return 2*node + 1\n",
    "    \n",
    "    def _right_child(self, node):\n",
    "        return 2*node + 2\n",
    "    \n",
    "    def _parent(self, node):\n",
    "        return (node - 1)//2\n",
    "    \n",
    "    def _swap(self, node1, node2):\n",
    "        tmp = self.values[node1]\n",
    "        self.values[node1] = self.values[node2]\n",
    "        self.values[node2] = tmp\n",
    "    \n",
    "    def add(self, value):\n",
    "        self.values.append(value)\n",
    "        self._heapify_up(len(self.values) - 1)\n",
    "    \n",
    "    def _heapify_up(self, node):\n",
    "        parent = self._parent(node)\n",
    "        if node > 0 and self.values[parent] > self.values[node]:\n",
    "            self._swap(node,parent)\n",
    "            self._heapify_up(parent)\n",
    "    \n",
    "    def min_value(self):\n",
    "        return self.values[0]\n",
    "    \n",
    "    def max_value(self):\n",
    "        return self.values[-1]\n",
    "    \n",
    "    def pop(self):\n",
    "        self._swap(0, len(self.values) - 1)\n",
    "        ret_value = self.values.pop()\n",
    "        self._heapify_down(0)\n",
    "        return ret_value\n",
    "    \n",
    "    def _heapify_down(self, node):\n",
    "        left_child = self._left_child(node)\n",
    "        right_child = self._right_child(node)\n",
    "        min_node = node\n",
    "        if left_child < len(self.values) and self.values[left_child] < self.values[node]:\n",
    "            min_node = left_child\n",
    "        if right_child < len(self.values) and self.values[right_child] < self.values[min_node]:\n",
    "            min_node = right_child\n",
    "        if min_node != node:\n",
    "            self._swap(node, min_node)\n",
    "            self._heapify_down(min_node)"
   ]
  },
  {
   "cell_type": "code",
   "execution_count": 20,
   "id": "2216a8dd",
   "metadata": {},
   "outputs": [],
   "source": [
    "mh = MinHeap()\n",
    "mh.add(10)\n",
    "mh.add(13)\n",
    "mh.add(8)\n",
    "mh.add(15)"
   ]
  },
  {
   "cell_type": "code",
   "execution_count": 21,
   "id": "95ac1146",
   "metadata": {},
   "outputs": [
    {
     "data": {
      "text/plain": [
       "8"
      ]
     },
     "execution_count": 21,
     "metadata": {},
     "output_type": "execute_result"
    }
   ],
   "source": [
    "mh.min_value()"
   ]
  },
  {
   "cell_type": "code",
   "execution_count": 22,
   "id": "e8145c57",
   "metadata": {},
   "outputs": [
    {
     "data": {
      "text/plain": [
       "15"
      ]
     },
     "execution_count": 22,
     "metadata": {},
     "output_type": "execute_result"
    }
   ],
   "source": [
    "mh.max_value()"
   ]
  }
 ],
 "metadata": {
  "kernelspec": {
   "display_name": "Python 3 (ipykernel)",
   "language": "python",
   "name": "python3"
  },
  "language_info": {
   "codemirror_mode": {
    "name": "ipython",
    "version": 3
   },
   "file_extension": ".py",
   "mimetype": "text/x-python",
   "name": "python",
   "nbconvert_exporter": "python",
   "pygments_lexer": "ipython3",
   "version": "3.9.7"
  }
 },
 "nbformat": 4,
 "nbformat_minor": 5
}
