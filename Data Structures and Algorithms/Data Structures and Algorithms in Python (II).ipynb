{
 "cells": [
  {
   "cell_type": "markdown",
   "id": "4e4bec45",
   "metadata": {},
   "source": [
    "# Data Structures and Algorithms in Python  (II)\n",
    "\n",
    "In this project we are going to work with some data structures such as Stacks, Queues Linked Lists and Dictionaries\n",
    "\n",
    "## Stacks\n",
    "Stacks are a last-in, first-out (LIFO) data structure."
   ]
  },
  {
   "cell_type": "code",
   "execution_count": 1,
   "id": "f10fdf63",
   "metadata": {},
   "outputs": [],
   "source": [
    "class Stack:\n",
    "    \n",
    "    def __init__(self):\n",
    "        self.items = []\n",
    "        \n",
    "    def is_empty(self):\n",
    "        return self.items == []\n",
    "    \n",
    "    def push(self, item):\n",
    "        self.items.insert(0, item)\n",
    "        \n",
    "    def pop(self):\n",
    "        return self.items.pop(0)\n",
    "    \n",
    "    def print_stack(self):\n",
    "        print(self.items)\n",
    "    \n",
    "    def clear_stack(self):\n",
    "        self.items = []\n",
    "        return \"The Stack is empty\""
   ]
  },
  {
   "cell_type": "markdown",
   "id": "be4477da",
   "metadata": {},
   "source": [
    "Initializing the Stack"
   ]
  },
  {
   "cell_type": "code",
   "execution_count": 2,
   "id": "68feb607",
   "metadata": {},
   "outputs": [],
   "source": [
    "my_stack = Stack()"
   ]
  },
  {
   "cell_type": "markdown",
   "id": "1cb99d8e",
   "metadata": {},
   "source": [
    "The Stack it's empty?"
   ]
  },
  {
   "cell_type": "code",
   "execution_count": 3,
   "id": "d9984d5f",
   "metadata": {},
   "outputs": [
    {
     "data": {
      "text/plain": [
       "True"
      ]
     },
     "execution_count": 3,
     "metadata": {},
     "output_type": "execute_result"
    }
   ],
   "source": [
    "my_stack.is_empty()"
   ]
  },
  {
   "cell_type": "markdown",
   "id": "330f0c66",
   "metadata": {},
   "source": [
    "Of course my_stack is empty. We have't added to my_stack any element yet"
   ]
  },
  {
   "cell_type": "code",
   "execution_count": 4,
   "id": "74822cc5",
   "metadata": {},
   "outputs": [],
   "source": [
    "my_stack.push(4)\n",
    "my_stack.push(10)"
   ]
  },
  {
   "cell_type": "code",
   "execution_count": 5,
   "id": "d9d82826",
   "metadata": {},
   "outputs": [
    {
     "data": {
      "text/plain": [
       "False"
      ]
     },
     "execution_count": 5,
     "metadata": {},
     "output_type": "execute_result"
    }
   ],
   "source": [
    "my_stack.is_empty()"
   ]
  },
  {
   "cell_type": "code",
   "execution_count": 6,
   "id": "c6c48105",
   "metadata": {},
   "outputs": [
    {
     "name": "stdout",
     "output_type": "stream",
     "text": [
      "[10, 4]\n"
     ]
    }
   ],
   "source": [
    "my_stack.print_stack()"
   ]
  },
  {
   "cell_type": "code",
   "execution_count": 7,
   "id": "8057889f",
   "metadata": {},
   "outputs": [],
   "source": [
    "my_stack.push([15,2])"
   ]
  },
  {
   "cell_type": "code",
   "execution_count": 8,
   "id": "6869ccda",
   "metadata": {},
   "outputs": [
    {
     "name": "stdout",
     "output_type": "stream",
     "text": [
      "[[15, 2], 10, 4]\n"
     ]
    }
   ],
   "source": [
    "my_stack.print_stack()"
   ]
  },
  {
   "cell_type": "code",
   "execution_count": 9,
   "id": "b06cc135",
   "metadata": {},
   "outputs": [
    {
     "data": {
      "text/plain": [
       "[15, 2]"
      ]
     },
     "execution_count": 9,
     "metadata": {},
     "output_type": "execute_result"
    }
   ],
   "source": [
    "my_stack.pop()"
   ]
  },
  {
   "cell_type": "code",
   "execution_count": 10,
   "id": "1eaf8ad8",
   "metadata": {},
   "outputs": [
    {
     "name": "stdout",
     "output_type": "stream",
     "text": [
      "[10, 4]\n"
     ]
    }
   ],
   "source": [
    "my_stack.print_stack()"
   ]
  },
  {
   "cell_type": "code",
   "execution_count": 11,
   "id": "99349a2a",
   "metadata": {},
   "outputs": [
    {
     "data": {
      "text/plain": [
       "'The Stack is empty'"
      ]
     },
     "execution_count": 11,
     "metadata": {},
     "output_type": "execute_result"
    }
   ],
   "source": [
    "my_stack.clear_stack()"
   ]
  },
  {
   "cell_type": "code",
   "execution_count": 12,
   "id": "a82f9429",
   "metadata": {},
   "outputs": [
    {
     "name": "stdout",
     "output_type": "stream",
     "text": [
      "[]\n"
     ]
    }
   ],
   "source": [
    "my_stack.print_stack()"
   ]
  },
  {
   "cell_type": "code",
   "execution_count": 13,
   "id": "e6b5c03d",
   "metadata": {},
   "outputs": [
    {
     "data": {
      "text/plain": [
       "True"
      ]
     },
     "execution_count": 13,
     "metadata": {},
     "output_type": "execute_result"
    }
   ],
   "source": [
    "my_stack.is_empty()"
   ]
  },
  {
   "cell_type": "markdown",
   "id": "44478693",
   "metadata": {},
   "source": [
    "## Queues"
   ]
  },
  {
   "cell_type": "markdown",
   "id": "83321a73",
   "metadata": {},
   "source": [
    "Queues are a first-in, first-out (FIFO) data structure."
   ]
  },
  {
   "cell_type": "code",
   "execution_count": 14,
   "id": "b698399c",
   "metadata": {},
   "outputs": [],
   "source": [
    "class Queue:\n",
    "    \n",
    "    def __init__(self):\n",
    "        self.items = []\n",
    "    \n",
    "    def is_empty(self):\n",
    "        return self.items == []\n",
    "    \n",
    "    def enqueue(self, item):\n",
    "        self.items.insert(0, item)\n",
    "        \n",
    "    def dequeue(self):\n",
    "        return self.items.pop()\n",
    "    \n",
    "    def print_queue(self):\n",
    "        print(self.items)\n",
    "        \n",
    "    def clear_queue(self):\n",
    "        self.items = []\n",
    "        return \"The Queue is empty\""
   ]
  },
  {
   "cell_type": "code",
   "execution_count": 15,
   "id": "1ad5264a",
   "metadata": {},
   "outputs": [],
   "source": [
    "my_queue = Queue()"
   ]
  },
  {
   "cell_type": "code",
   "execution_count": 16,
   "id": "a7bbb0fb",
   "metadata": {},
   "outputs": [
    {
     "data": {
      "text/plain": [
       "True"
      ]
     },
     "execution_count": 16,
     "metadata": {},
     "output_type": "execute_result"
    }
   ],
   "source": [
    "my_queue.is_empty()"
   ]
  },
  {
   "cell_type": "code",
   "execution_count": 17,
   "id": "0f770c8d",
   "metadata": {},
   "outputs": [],
   "source": [
    "my_queue.enqueue(7)\n",
    "my_queue.enqueue(18)\n",
    "my_queue.enqueue(83)"
   ]
  },
  {
   "cell_type": "code",
   "execution_count": 18,
   "id": "dab79533",
   "metadata": {},
   "outputs": [
    {
     "data": {
      "text/plain": [
       "False"
      ]
     },
     "execution_count": 18,
     "metadata": {},
     "output_type": "execute_result"
    }
   ],
   "source": [
    "my_queue.is_empty()"
   ]
  },
  {
   "cell_type": "code",
   "execution_count": 19,
   "id": "a27395d3",
   "metadata": {},
   "outputs": [
    {
     "name": "stdout",
     "output_type": "stream",
     "text": [
      "[83, 18, 7]\n"
     ]
    }
   ],
   "source": [
    "my_queue.print_queue()"
   ]
  },
  {
   "cell_type": "code",
   "execution_count": 20,
   "id": "6a911bb2",
   "metadata": {},
   "outputs": [
    {
     "data": {
      "text/plain": [
       "7"
      ]
     },
     "execution_count": 20,
     "metadata": {},
     "output_type": "execute_result"
    }
   ],
   "source": [
    "my_queue.dequeue()"
   ]
  },
  {
   "cell_type": "code",
   "execution_count": 21,
   "id": "29a71cb0",
   "metadata": {},
   "outputs": [
    {
     "name": "stdout",
     "output_type": "stream",
     "text": [
      "[83, 18]\n"
     ]
    }
   ],
   "source": [
    "my_queue.print_queue()"
   ]
  },
  {
   "cell_type": "code",
   "execution_count": 22,
   "id": "f65f257a",
   "metadata": {},
   "outputs": [
    {
     "data": {
      "text/plain": [
       "'The Queue is empty'"
      ]
     },
     "execution_count": 22,
     "metadata": {},
     "output_type": "execute_result"
    }
   ],
   "source": [
    "my_queue.clear_queue()"
   ]
  },
  {
   "cell_type": "markdown",
   "id": "3da6e910",
   "metadata": {},
   "source": [
    "## Linked Lists"
   ]
  },
  {
   "cell_type": "code",
   "execution_count": 23,
   "id": "bdec33f8",
   "metadata": {},
   "outputs": [],
   "source": [
    "class Node:\n",
    "    \n",
    "    def __init__(self, data = None):\n",
    "        self.data = data\n",
    "        self.next = None\n",
    "\n",
    "class LinkedList:\n",
    "    \n",
    "    def __init__(self):\n",
    "        self.head = None\n",
    "        self.length = 0\n",
    "#Inserting node at the Beginning\n",
    "\n",
    "    def at_front(self, data_in):\n",
    "        new_node = Node(data_in)\n",
    "        new_node.next = self.head\n",
    "        self.head = new_node\n",
    "        self.length += 1\n",
    "        \n",
    "#Inserting in between two Data Nodes \n",
    "    def between(self, middle_node, data):\n",
    "       \n",
    "        if middle_node is None:\n",
    "            print(\"The middle node is absent\")\n",
    "            return\n",
    "        new_node = Node(data)\n",
    "        new_node.next = middle_node.next \n",
    "        \n",
    "        middle_node.next = new_node\n",
    "        self.length += 1    \n",
    "                \n",
    "#Inserting node at the End    \n",
    "    def at_end(self, data_in):\n",
    "        new_node = Node(data_in)\n",
    "        if self.head is None:\n",
    "            self.head = new_node\n",
    "            return\n",
    "        last = self.head\n",
    "        while (last.next):\n",
    "            last = last.next\n",
    "        last.next = new_node\n",
    "        self.length += 1\n",
    "        \n",
    "#Deleting node       \n",
    "    def remove_node(self, remove):\n",
    "        \n",
    "        head_val = self.head\n",
    "        \n",
    "        if (head_val is not None):\n",
    "            if (head_val.data == remove):\n",
    "                self.head = head_val.next\n",
    "                head_val = None\n",
    "                return\n",
    "\n",
    "        while (head_val is not None):\n",
    "            if head_val.data == remove:\n",
    "                break\n",
    "            prev = head_val\n",
    "            head_val = head_val.next\n",
    "            \n",
    "        if (head_val==None):\n",
    "            return\n",
    "        \n",
    "        prev.next = head_val.next\n",
    "        \n",
    "        head_val = None\n",
    "        self.length -= 1\n",
    "        \n",
    "    def __len__(self):\n",
    "        return self.length\n",
    "    \n",
    "    def print_list(self):\n",
    "        n = self.head\n",
    "        while n:\n",
    "            print(n.data, end = \" => \")\n",
    "            n = n.next\n",
    "\n",
    "# The __iter__ method is responsible for initializing the iteration\n",
    "            \n",
    "    def __iter__(self):\n",
    "        self._iter_node = self.head\n",
    "        return self\n",
    "    \n",
    "# The __next__ method is responsible for returning the current iteration value,\n",
    "# moving the iteration to the next value and notifying when the iteration is over\n",
    "    def __next__(self):\n",
    "        if self._iter_node is None:\n",
    "            raise StopIteration\n",
    "        ret = self._iter_node.data\n",
    "        self._iter_node = self._iter_node.next\n",
    "        return ret\n",
    "        "
   ]
  },
  {
   "cell_type": "code",
   "execution_count": 24,
   "id": "483291c1",
   "metadata": {},
   "outputs": [],
   "source": [
    "ll=LinkedList()"
   ]
  },
  {
   "cell_type": "code",
   "execution_count": 25,
   "id": "c095538e",
   "metadata": {},
   "outputs": [],
   "source": [
    "ll.at_front(\"A\")"
   ]
  },
  {
   "cell_type": "code",
   "execution_count": 26,
   "id": "bec338aa",
   "metadata": {},
   "outputs": [],
   "source": [
    "ll.at_front(\"C\")"
   ]
  },
  {
   "cell_type": "code",
   "execution_count": 27,
   "id": "0084c7ed",
   "metadata": {},
   "outputs": [],
   "source": [
    "ll.at_front(\"Z\")"
   ]
  },
  {
   "cell_type": "code",
   "execution_count": 28,
   "id": "40e32c16",
   "metadata": {},
   "outputs": [
    {
     "name": "stdout",
     "output_type": "stream",
     "text": [
      "Z => C => A => "
     ]
    }
   ],
   "source": [
    "ll.print_list()"
   ]
  },
  {
   "cell_type": "code",
   "execution_count": 29,
   "id": "492bda42",
   "metadata": {},
   "outputs": [],
   "source": [
    "ll.remove_node(\"C\")"
   ]
  },
  {
   "cell_type": "code",
   "execution_count": 30,
   "id": "8f24cdd5",
   "metadata": {},
   "outputs": [
    {
     "name": "stdout",
     "output_type": "stream",
     "text": [
      "Z => A => "
     ]
    }
   ],
   "source": [
    "ll.print_list()"
   ]
  },
  {
   "cell_type": "code",
   "execution_count": 31,
   "id": "a2e8e444",
   "metadata": {},
   "outputs": [],
   "source": [
    "ll.at_end(\"P\")"
   ]
  },
  {
   "cell_type": "code",
   "execution_count": 32,
   "id": "a2d17d9a",
   "metadata": {},
   "outputs": [
    {
     "name": "stdout",
     "output_type": "stream",
     "text": [
      "Z => A => P => "
     ]
    }
   ],
   "source": [
    "ll.print_list()"
   ]
  },
  {
   "cell_type": "code",
   "execution_count": 33,
   "id": "83b94314",
   "metadata": {},
   "outputs": [],
   "source": [
    "nodea = Node(\"A\")\n",
    "ll.head.next = nodea\n",
    "nodea.next = Node(\"P\")\n",
    "ll.between(ll.head.next,\"X\")"
   ]
  },
  {
   "cell_type": "code",
   "execution_count": 34,
   "id": "a8a5748d",
   "metadata": {},
   "outputs": [
    {
     "name": "stdout",
     "output_type": "stream",
     "text": [
      "Z => A => X => P => "
     ]
    }
   ],
   "source": [
    "ll.print_list()"
   ]
  },
  {
   "cell_type": "code",
   "execution_count": 35,
   "id": "a39180d7",
   "metadata": {},
   "outputs": [
    {
     "data": {
      "text/plain": [
       "4"
      ]
     },
     "execution_count": 35,
     "metadata": {},
     "output_type": "execute_result"
    }
   ],
   "source": [
    "len(ll)"
   ]
  },
  {
   "cell_type": "code",
   "execution_count": 36,
   "id": "598e1881",
   "metadata": {},
   "outputs": [
    {
     "name": "stdout",
     "output_type": "stream",
     "text": [
      "Z\n",
      "A\n",
      "X\n",
      "P\n"
     ]
    }
   ],
   "source": [
    "for i in ll:\n",
    "    print(i)"
   ]
  },
  {
   "cell_type": "markdown",
   "id": "cc77b7c1",
   "metadata": {},
   "source": [
    "## Dictionaries\n",
    "\n",
    "Dictionary implementation based on an **hash table**\n",
    "\n",
    "If we use a random hash function, each bucket would be equally likely to be selected and the expected size of each list would be the number of entries **N** divided by the number of buckets **B** \n",
    "\n",
    "$$ \\frac{N}{B} $$\n"
   ]
  },
  {
   "cell_type": "code",
   "execution_count": 37,
   "id": "b68feabc",
   "metadata": {},
   "outputs": [],
   "source": [
    "class Entry:\n",
    "    def __init__(self, key, value):\n",
    "        self.key = key\n",
    "        self.value = value\n",
    "\n",
    "class Dictionary:\n",
    "    def __init__(self, num_buckets):\n",
    "        self.num_buckets = num_buckets\n",
    "        self.buckets = [LinkedList() for _ in range(num_buckets)]\n",
    "        self.length = 0\n",
    "    \n",
    "    def _get_index(self, key):\n",
    "        hashcode = hash(key)\n",
    "        return hashcode % self.num_buckets\n",
    "    \n",
    "    def put(self, key, value):\n",
    "        index = self._get_index(key)\n",
    "        found_key = False\n",
    "        for entry in self.buckets[index]:\n",
    "            if entry.key == key:\n",
    "                entry.value = value\n",
    "                found_key = True\n",
    "        if not found_key:\n",
    "            self.buckets[index].at_end(Entry(key, value))\n",
    "            self.length += 1\n",
    "    \n",
    "    def get_value(self, key):\n",
    "        index = self._get_index(key)\n",
    "        for entry in self.buckets[index]:\n",
    "            if entry.key == key:\n",
    "                print(entry.key, entry.value)\n",
    "                return entry.value\n",
    "            raise KeyError(key)\n",
    "        \n",
    "    def delete(self, key):\n",
    "        index = self._get_index(key)\n",
    "        new_bucket = LinkedList()\n",
    "        for entry in self.buckets[index]:\n",
    "            if entry.key != key:\n",
    "                new_bucket.append(entry)\n",
    "        if len(new_bucket) < len(self.buckets[index]):\n",
    "            self.length -= 1\n",
    "        self.buckets[index] = new_bucket\n",
    "        \n",
    "    def __getitem__(self, key):\n",
    "        return self.get_value(key)\n",
    "    \n",
    "    def __setitem__(self, key, value):\n",
    "        self.put(key, value)\n",
    "    \n",
    "    def __len__(self):\n",
    "        return self.length\n",
    "        "
   ]
  },
  {
   "cell_type": "code",
   "execution_count": 38,
   "id": "79bac481",
   "metadata": {},
   "outputs": [],
   "source": [
    "my_dict = Dictionary(5)"
   ]
  },
  {
   "cell_type": "code",
   "execution_count": 39,
   "id": "355c372c",
   "metadata": {},
   "outputs": [],
   "source": [
    "index=my_dict._get_index(\"data engineering\")"
   ]
  },
  {
   "cell_type": "code",
   "execution_count": 40,
   "id": "bf86daba",
   "metadata": {},
   "outputs": [
    {
     "data": {
      "text/plain": [
       "1"
      ]
     },
     "execution_count": 40,
     "metadata": {},
     "output_type": "execute_result"
    }
   ],
   "source": [
    "index"
   ]
  },
  {
   "cell_type": "code",
   "execution_count": 41,
   "id": "98ffb03f",
   "metadata": {},
   "outputs": [
    {
     "name": "stdout",
     "output_type": "stream",
     "text": [
      "my key 1\n"
     ]
    },
    {
     "data": {
      "text/plain": [
       "1"
      ]
     },
     "execution_count": 41,
     "metadata": {},
     "output_type": "execute_result"
    }
   ],
   "source": [
    "my_dict.put(\"my key\", 1)\n",
    "my_dict.get_value(\"my key\")"
   ]
  },
  {
   "cell_type": "code",
   "execution_count": 42,
   "id": "ef894273",
   "metadata": {},
   "outputs": [
    {
     "name": "stdout",
     "output_type": "stream",
     "text": [
      "my key 2\n"
     ]
    },
    {
     "data": {
      "text/plain": [
       "2"
      ]
     },
     "execution_count": 42,
     "metadata": {},
     "output_type": "execute_result"
    }
   ],
   "source": [
    "my_dict.put(\"my key\", 2)\n",
    "my_dict.get_value(\"my key\")"
   ]
  },
  {
   "cell_type": "code",
   "execution_count": 43,
   "id": "2d992bb2",
   "metadata": {},
   "outputs": [
    {
     "data": {
      "text/plain": [
       "1"
      ]
     },
     "execution_count": 43,
     "metadata": {},
     "output_type": "execute_result"
    }
   ],
   "source": [
    "len(my_dict)"
   ]
  },
  {
   "cell_type": "code",
   "execution_count": 44,
   "id": "8ba139c9",
   "metadata": {},
   "outputs": [
    {
     "name": "stdout",
     "output_type": "stream",
     "text": [
      "Learn is great! 3\n"
     ]
    },
    {
     "data": {
      "text/plain": [
       "3"
      ]
     },
     "execution_count": 44,
     "metadata": {},
     "output_type": "execute_result"
    }
   ],
   "source": [
    "my_dict.put(\"Learn is great!\", 3)\n",
    "my_dict.get_value(\"Learn is great!\")"
   ]
  },
  {
   "cell_type": "code",
   "execution_count": 45,
   "id": "e0c19562",
   "metadata": {},
   "outputs": [
    {
     "data": {
      "text/plain": [
       "2"
      ]
     },
     "execution_count": 45,
     "metadata": {},
     "output_type": "execute_result"
    }
   ],
   "source": [
    "len(my_dict)"
   ]
  },
  {
   "cell_type": "code",
   "execution_count": 46,
   "id": "76486a3a",
   "metadata": {},
   "outputs": [],
   "source": [
    "my_dict.delete(\"my key\")"
   ]
  },
  {
   "cell_type": "code",
   "execution_count": 47,
   "id": "79a17f65",
   "metadata": {},
   "outputs": [
    {
     "data": {
      "text/plain": [
       "2"
      ]
     },
     "execution_count": 47,
     "metadata": {},
     "output_type": "execute_result"
    }
   ],
   "source": [
    "len(my_dict)"
   ]
  },
  {
   "cell_type": "code",
   "execution_count": 48,
   "id": "0f3dcf88",
   "metadata": {},
   "outputs": [],
   "source": [
    "my_dict[\"my key\"] = 5"
   ]
  },
  {
   "cell_type": "code",
   "execution_count": 49,
   "id": "e59aeca3",
   "metadata": {},
   "outputs": [
    {
     "name": "stdout",
     "output_type": "stream",
     "text": [
      "my key 5\n",
      "5\n"
     ]
    }
   ],
   "source": [
    "print(my_dict[\"my key\"])"
   ]
  }
 ],
 "metadata": {
  "kernelspec": {
   "display_name": "Python 3 (ipykernel)",
   "language": "python",
   "name": "python3"
  },
  "language_info": {
   "codemirror_mode": {
    "name": "ipython",
    "version": 3
   },
   "file_extension": ".py",
   "mimetype": "text/x-python",
   "name": "python",
   "nbconvert_exporter": "python",
   "pygments_lexer": "ipython3",
   "version": "3.9.7"
  }
 },
 "nbformat": 4,
 "nbformat_minor": 5
}
