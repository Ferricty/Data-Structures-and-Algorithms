{
 "cells": [
  {
   "cell_type": "markdown",
   "id": "b334e38f",
   "metadata": {},
   "source": [
    "# Data Structures and Algorithms in Python  (I)\n",
    "\n",
    "## Binary Search\n",
    "\n",
    "1- We need to write a program to find the position of a given number in a list of numbers arranged in decreasing order. We also need to minimize the number of time we access elements from the list \n",
    "\n",
    "**Input**\n",
    "\n",
    "    A list of numbers sorted in decreasing order\n",
    "    A number, whose position in the array is to be determined\n",
    "    \n",
    "**Output**\n",
    "\n",
    "    The position of the number in the list\n",
    "Before to run to solve the excercise we should think about of the possible situations\n",
    "    \n",
    "    -The list is empty\n",
    "    -The number is not in the list\n",
    "    -The number is the only element in the list\n",
    "    -The number is the first element of the list\n",
    "    -The number is somewhere in the middle of the list\n",
    "    -The number is the last element of the list\n",
    "    -There are repeated values in the list    \n",
    "    -The number appears more than one time\n",
    "    \n"
   ]
  },
  {
   "cell_type": "code",
   "execution_count": 1,
   "id": "742c61c0",
   "metadata": {},
   "outputs": [],
   "source": [
    "test_cases=[]"
   ]
  },
  {
   "cell_type": "code",
   "execution_count": 2,
   "id": "41a382ff",
   "metadata": {},
   "outputs": [],
   "source": [
    "#The number is somewhere in the middle of the list\n",
    "test_cases.append({\n",
    "    'input':{\"lista\":[15,10,8,7,5,1,0],\n",
    "            \"number\":7},\n",
    "    'output':3\n",
    "})"
   ]
  },
  {
   "cell_type": "code",
   "execution_count": 3,
   "id": "a1870300",
   "metadata": {},
   "outputs": [],
   "source": [
    "#The number is the first element of the list\n",
    "test_cases.append({\n",
    "    'input':{\"lista\":[75,46,19,7,3,2],\n",
    "            \"number\":75},\n",
    "    'output':0\n",
    "})"
   ]
  },
  {
   "cell_type": "code",
   "execution_count": 4,
   "id": "25a50891",
   "metadata": {},
   "outputs": [],
   "source": [
    "#The number is the last element of the list\n",
    "test_cases.append({\n",
    "    'input':{\"lista\":[-200,-546,-653,-700,-768,-980],\n",
    "            \"number\":-980},\n",
    "    'output':5\n",
    "})"
   ]
  },
  {
   "cell_type": "code",
   "execution_count": 5,
   "id": "31f10278",
   "metadata": {},
   "outputs": [],
   "source": [
    "#The number is the only element in the list\n",
    "test_cases.append({\n",
    "    'input':{\"lista\":[0],\n",
    "            \"number\":0},\n",
    "    'output':0\n",
    "})"
   ]
  },
  {
   "cell_type": "code",
   "execution_count": 6,
   "id": "5cc6c461",
   "metadata": {},
   "outputs": [],
   "source": [
    "#The number is not in the list\n",
    "test_cases.append({\n",
    "    'input':{\"lista\":[-234,-564,-632,-789],\n",
    "            \"number\":0},\n",
    "    'output':\"Not in the list\"\n",
    "})"
   ]
  },
  {
   "cell_type": "code",
   "execution_count": 7,
   "id": "04daa863",
   "metadata": {},
   "outputs": [],
   "source": [
    "#The list is empty\n",
    "test_cases.append({\n",
    "    'input':{\"lista\":[],\n",
    "            \"number\":40},\n",
    "    'output':\"Not in the list\"\n",
    "})"
   ]
  },
  {
   "cell_type": "code",
   "execution_count": 8,
   "id": "a0576eb8",
   "metadata": {},
   "outputs": [],
   "source": [
    "#There are repeated values in the list\n",
    "test_cases.append({\n",
    "    'input':{\"lista\":[8,8,8,8,8,6,6,6,6,6,3,2,2,2,0],\n",
    "            \"number\":3},\n",
    "    'output':10\n",
    "})"
   ]
  },
  {
   "cell_type": "code",
   "execution_count": 9,
   "id": "3b6e154e",
   "metadata": {},
   "outputs": [],
   "source": [
    "#There are repeated values in the list\n",
    "test_cases.append({\n",
    "    'input':{\"lista\":[8,8,8,8,8,6,6,6,6,6,3,2,2,2,0],\n",
    "            \"number\":6},\n",
    "    'output':5\n",
    "})"
   ]
  },
  {
   "cell_type": "markdown",
   "id": "0c96cf2e",
   "metadata": {},
   "source": [
    "Let's look at the full set of test cases we have created so far"
   ]
  },
  {
   "cell_type": "code",
   "execution_count": 10,
   "id": "cfe7ac81",
   "metadata": {},
   "outputs": [
    {
     "data": {
      "text/plain": [
       "[{'input': {'lista': [15, 10, 8, 7, 5, 1, 0], 'number': 7}, 'output': 3},\n",
       " {'input': {'lista': [75, 46, 19, 7, 3, 2], 'number': 75}, 'output': 0},\n",
       " {'input': {'lista': [-200, -546, -653, -700, -768, -980], 'number': -980},\n",
       "  'output': 5},\n",
       " {'input': {'lista': [0], 'number': 0}, 'output': 0},\n",
       " {'input': {'lista': [-234, -564, -632, -789], 'number': 0},\n",
       "  'output': 'Not in the list'},\n",
       " {'input': {'lista': [], 'number': 40}, 'output': 'Not in the list'},\n",
       " {'input': {'lista': [8, 8, 8, 8, 8, 6, 6, 6, 6, 6, 3, 2, 2, 2, 0],\n",
       "   'number': 3},\n",
       "  'output': 10},\n",
       " {'input': {'lista': [8, 8, 8, 8, 8, 6, 6, 6, 6, 6, 3, 2, 2, 2, 0],\n",
       "   'number': 6},\n",
       "  'output': 5}]"
      ]
     },
     "execution_count": 10,
     "metadata": {},
     "output_type": "execute_result"
    }
   ],
   "source": [
    "test_cases"
   ]
  },
  {
   "cell_type": "code",
   "execution_count": 11,
   "id": "d62edc2f",
   "metadata": {},
   "outputs": [],
   "source": [
    "#One solution could be:\n",
    "def find_position(lista,number):\n",
    "    if number in lista:\n",
    "        return lista.index(number)\n",
    "    else:\n",
    "        return \"Not in the list\""
   ]
  },
  {
   "cell_type": "code",
   "execution_count": 12,
   "id": "da522880",
   "metadata": {},
   "outputs": [
    {
     "name": "stdout",
     "output_type": "stream",
     "text": [
      "Success\n"
     ]
    }
   ],
   "source": [
    "success = sum([1 for t in test_cases if find_position(**t[\"input\"])==t[\"output\"]])\n",
    "\n",
    "if success==len(test_cases):\n",
    "    print(\"Success\")"
   ]
  },
  {
   "cell_type": "markdown",
   "id": "df511100",
   "metadata": {},
   "source": [
    "## Binary Search "
   ]
  },
  {
   "cell_type": "code",
   "execution_count": 13,
   "id": "96015690",
   "metadata": {},
   "outputs": [],
   "source": [
    "def find_position2(lista,number):\n",
    "    interval_s,interval_e = 0,len(lista)-1\n",
    "    \n",
    "    while interval_s <= interval_e:\n",
    "        mid = (interval_s + interval_e)//2\n",
    "        mid_number = lista[mid]\n",
    "        if mid_number == number:\n",
    "            return mid\n",
    "        elif mid_number < number:\n",
    "            interval_e = mid -1\n",
    "        elif mid_number > number:\n",
    "            interval_s = mid + 1\n",
    "    return \"Not in the list\""
   ]
  },
  {
   "cell_type": "code",
   "execution_count": 14,
   "id": "8e0fbaf5",
   "metadata": {},
   "outputs": [
    {
     "name": "stdout",
     "output_type": "stream",
     "text": [
      "True\n",
      "True\n",
      "True\n",
      "True\n",
      "True\n",
      "True\n",
      "True\n",
      "False\n"
     ]
    }
   ],
   "source": [
    "for t in test_cases:\n",
    "    print(find_position2(**t[\"input\"])==t[\"output\"])"
   ]
  },
  {
   "cell_type": "markdown",
   "id": "e63ff7cb",
   "metadata": {},
   "source": [
    "There is a detail in the actual solution. Let's modify the code to get the first aparition of the number in the list"
   ]
  },
  {
   "cell_type": "code",
   "execution_count": 15,
   "id": "2a3c44fc",
   "metadata": {},
   "outputs": [],
   "source": [
    "def find__first_position(lista,number,mid):\n",
    "    if lista[mid] == number:        \n",
    "        if mid-1 >= 0 and lista[mid-1] == number:\n",
    "            return 'left'        \n",
    "        else:\n",
    "            return 'found'        \n",
    "    elif lista[mid] < number:\n",
    "        return 'left'    \n",
    "    else:\n",
    "        return 'right'\n",
    "    \n",
    "def find_position2(lista,number):\n",
    "    interval_s,interval_e = 0,len(lista)-1\n",
    "    \n",
    "    while interval_s <= interval_e:\n",
    "        mid = (interval_s + interval_e)//2\n",
    "        \n",
    "        result = find__first_position(lista,number,mid)\n",
    "        \n",
    "        if result == 'found':\n",
    "            return mid\n",
    "        \n",
    "        elif result == 'left':\n",
    "            interval_e = mid - 1\n",
    "        \n",
    "        elif result == 'right':\n",
    "            interval_s = mid + 1\n",
    "            \n",
    "    return \"Not in the list\""
   ]
  },
  {
   "cell_type": "code",
   "execution_count": 16,
   "id": "c6dbc53e",
   "metadata": {},
   "outputs": [
    {
     "name": "stdout",
     "output_type": "stream",
     "text": [
      "True\n",
      "True\n",
      "True\n",
      "True\n",
      "True\n",
      "True\n",
      "True\n",
      "True\n"
     ]
    }
   ],
   "source": [
    "for t in test_cases:\n",
    "    print(find_position2(**t[\"input\"])==t[\"output\"])"
   ]
  },
  {
   "cell_type": "code",
   "execution_count": 17,
   "id": "ab73921e",
   "metadata": {},
   "outputs": [],
   "source": [
    "import random \n",
    "import numpy as np\n",
    "a=np.random.randint(0,1000000,500000)\n",
    "r=list(a)"
   ]
  },
  {
   "cell_type": "code",
   "execution_count": 18,
   "id": "ad9f19da",
   "metadata": {},
   "outputs": [
    {
     "data": {
      "text/plain": [
       "[178, 176, 175, 174, 173, 168, 162, 161, 161, 161]"
      ]
     },
     "execution_count": 18,
     "metadata": {},
     "output_type": "execute_result"
    }
   ],
   "source": [
    "#Sorting the list and \n",
    "r.sort(reverse=True)\n",
    "r[-80:-70]"
   ]
  },
  {
   "cell_type": "code",
   "execution_count": null,
   "id": "7b398f87",
   "metadata": {},
   "outputs": [],
   "source": [
    "#Comparing the time execution of the algorithms"
   ]
  },
  {
   "cell_type": "code",
   "execution_count": 19,
   "id": "9a754cb7",
   "metadata": {},
   "outputs": [
    {
     "name": "stdout",
     "output_type": "stream",
     "text": [
      "499923\n",
      "0.358792781829834\n"
     ]
    }
   ],
   "source": [
    "import time\n",
    "s1=time.time()\n",
    "print(find_position(r,174))\n",
    "e1=time.time()\n",
    "print(e1-s1)"
   ]
  },
  {
   "cell_type": "code",
   "execution_count": 20,
   "id": "9b854977",
   "metadata": {},
   "outputs": [
    {
     "name": "stdout",
     "output_type": "stream",
     "text": [
      "499923\n",
      "0.000998497009277\n"
     ]
    }
   ],
   "source": [
    "s2=time.time()\n",
    "print(find_position2(r,174))\n",
    "e2=time.time()\n",
    "print(\"{0:.15f}\".format(e2-s2))"
   ]
  },
  {
   "cell_type": "markdown",
   "id": "dac1ec22",
   "metadata": {},
   "source": [
    "## Conclusion\n",
    "We can appretiate that Binary Search algorithm it's more faster than the first solution"
   ]
  }
 ],
 "metadata": {
  "kernelspec": {
   "display_name": "Python 3 (ipykernel)",
   "language": "python",
   "name": "python3"
  },
  "language_info": {
   "codemirror_mode": {
    "name": "ipython",
    "version": 3
   },
   "file_extension": ".py",
   "mimetype": "text/x-python",
   "name": "python",
   "nbconvert_exporter": "python",
   "pygments_lexer": "ipython3",
   "version": "3.9.7"
  }
 },
 "nbformat": 4,
 "nbformat_minor": 5
}
